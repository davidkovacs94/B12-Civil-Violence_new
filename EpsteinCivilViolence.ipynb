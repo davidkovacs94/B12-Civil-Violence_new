{
 "cells": [
  {
   "cell_type": "markdown",
   "metadata": {},
   "source": [
    "\n",
    "The code used is on top of Epstein Model of Civil Violence \n",
    "\n",
    "Civilians can have four states : Susciptible, Honest, Corrupted or Jailed.\n",
    "\n",
    "The corruption density is specified using corruption_level while the susceptible density is controlled by susceptible_level. The honest density = 1 - (corruption_level + susceptible_level).\n",
    "\n",
    "Civilians can have jobs and the initial rate is specified using initial_unemployment_rate. \n",
    "\n",
    "\n",
    "\n"
   ]
  },
  {
   "cell_type": "code",
   "execution_count": null,
   "metadata": {
    "scrolled": true
   },
   "outputs": [],
   "source": [
    "import matplotlib.pyplot as plt\n",
    "%matplotlib inline\n",
    "import numpy as np\n",
    "from epstein_civil_violence.agent import Citizen, Cop\n",
    "from epstein_civil_violence.model import EpsteinCivilViolence"
   ]
  },
  {
   "cell_type": "code",
   "execution_count": null,
   "metadata": {},
   "outputs": [],
   "source": [
    "model = EpsteinCivilViolence(height=50, \n",
    "                           width=50, \n",
    "                           citizen_density=.7, \n",
    "                           cop_density=.044, \n",
    "                           citizen_vision=7, \n",
    "                           cop_vision=7, \n",
    "                           legitimacy=.8, \n",
    "                           max_jail_term=4, \n",
    "                           initial_unemployment_rate = 0.05,\n",
    "                           corruption_level = 0.20,\n",
    "                           honest_level = 0.05,\n",
    "                           corruption_transmission_prob = 0.001,\n",
    "                           honest_transmission_prob = 0.0001,\n",
    "                           max_corruption_saturation = 0.34,\n",
    "                           max_honest_saturation = 0.14,\n",
    "\n",
    "                           max_iters=60) # cap the number of steps the model takes\n",
    "model.run_model()\n"
   ]
  },
  {
   "cell_type": "code",
   "execution_count": null,
   "metadata": {},
   "outputs": [],
   "source": [
    "model_out = model.datacollector.get_model_vars_dataframe()\n",
    "print(model_out)\n"
   ]
  },
  {
   "cell_type": "code",
   "execution_count": null,
   "metadata": {},
   "outputs": [],
   "source": [
    "ax = model_out.plot()\n",
    "ax.set_title('Citizen Condition Over Time')\n",
    "ax.set_xlabel('Step')\n",
    "ax.set_ylabel('Number of Citizens')\n",
    "_ = ax.legend(bbox_to_anchor=(1.35, 1.025))"
   ]
  },
  {
   "cell_type": "markdown",
   "metadata": {},
   "source": [
    "Experiment 1 : Unemployment rate : 0.06"
   ]
  },
  {
   "cell_type": "code",
   "execution_count": null,
   "metadata": {},
   "outputs": [],
   "source": [
    "model_1 = EpsteinCivilViolence(height=25, \n",
    "                           width=25, \n",
    "                           citizen_density=.7, \n",
    "                           cop_density=.034, \n",
    "                           citizen_vision=5, \n",
    "                           cop_vision=5, \n",
    "                           legitimacy=.8, \n",
    "                           max_jail_term=4, \n",
    "                           initial_unemployment_rate = 0.06,\n",
    "                           corruption_level = 0.08,\n",
    "                           honest_level = 0.03,\n",
    "                           corruption_transmission_prob = 0.009,\n",
    "                           honest_transmission_prob = 0.009,\n",
    "                           max_corruption_saturation = 0.45,\n",
    "                           max_honest_saturation = 0.25,\n",
    "                           max_iters=135) # cap the number of steps the model takes\n",
    "model_1.run_model()\n",
    "model_1_output = model_1.datacollector.get_model_vars_dataframe()\n",
    "print(model_1_output)"
   ]
  },
  {
   "cell_type": "code",
   "execution_count": null,
   "metadata": {},
   "outputs": [],
   "source": [
    "ax = model_1_output[['Active','Employed','Quiescent','Corrupted']].plot(figsize=(7,6))\n",
    "ax.set_title('Citizen Condition Over Time')\n",
    "ax.set_xlabel('Step')\n",
    "ax.set_ylabel('Number of Citizens')\n",
    "_ = ax.legend(bbox_to_anchor=(1.35, 1.025))"
   ]
  },
  {
   "cell_type": "markdown",
   "metadata": {},
   "source": [
    "Experiment 2 : Unemployment rate : 0.15"
   ]
  },
  {
   "cell_type": "code",
   "execution_count": null,
   "metadata": {},
   "outputs": [],
   "source": [
    "model_2 = EpsteinCivilViolence(height=25, \n",
    "                           width=25, \n",
    "                           citizen_density=.7, \n",
    "                           cop_density=.034, \n",
    "                           citizen_vision=5, \n",
    "                           cop_vision=5, \n",
    "                           legitimacy=.8, \n",
    "                           max_jail_term=4, \n",
    "                           initial_unemployment_rate = 0.15,\n",
    "                           corruption_level = 0.08,\n",
    "                           honest_level = 0.03,\n",
    "                           corruption_transmission_prob = 0.009,\n",
    "                           honest_transmission_prob = 0.009,\n",
    "                           max_corruption_saturation = 0.45,\n",
    "                           max_honest_saturation = 0.25,\n",
    "                           max_iters=135) # cap the number of steps the model takes\n",
    "model_2.run_model()\n",
    "model_2_output = model_2.datacollector.get_model_vars_dataframe()"
   ]
  },
  {
   "cell_type": "code",
   "execution_count": null,
   "metadata": {},
   "outputs": [],
   "source": [
    "ax = model_2_output[['Active','Employed','Quiescent','Corrupted']].plot(figsize=(7,6))\n",
    "ax.set_title('Citizen Condition Over Time')\n",
    "ax.set_xlabel('Step')\n",
    "ax.set_ylabel('Number of Citizens')\n",
    "_ = ax.legend(bbox_to_anchor=(1.35, 1.025))\n",
    "\n",
    "x = model_2_output[['Active','Employed','Quiescent']]\n",
    "print(x[x.Active == x.Active.max()])"
   ]
  },
  {
   "cell_type": "markdown",
   "metadata": {},
   "source": [
    "Experiment 3: Corruption Transmission prob : 0.1"
   ]
  },
  {
   "cell_type": "code",
   "execution_count": null,
   "metadata": {},
   "outputs": [],
   "source": [
    "model_3 = EpsteinCivilViolence(height=25, \n",
    "                           width=25, \n",
    "                           citizen_density=.7, \n",
    "                           cop_density=.034, \n",
    "                           citizen_vision=5, \n",
    "                           cop_vision=5, \n",
    "                           legitimacy=.8, \n",
    "                           max_jail_term=4, \n",
    "                           initial_unemployment_rate = 0.08,\n",
    "                           corruption_level = 0.08,\n",
    "                           honest_level = 0.03,\n",
    "                           corruption_transmission_prob = 0.1,\n",
    "                           honest_transmission_prob = 0.009,\n",
    "                           max_corruption_saturation = 0.45,\n",
    "                           max_honest_saturation = 0.25,\n",
    "                           max_iters=135) # cap the number of steps the model takes\n",
    "model_3.run_model()\n",
    "model_3_output = model_3.datacollector.get_model_vars_dataframe()"
   ]
  },
  {
   "cell_type": "code",
   "execution_count": null,
   "metadata": {},
   "outputs": [],
   "source": [
    "ax = model_3_output[['Active','Employed','Quiescent','Corrupted']].plot(figsize=(7,6))\n",
    "ax.set_title('Citizen Condition Over Time')\n",
    "ax.set_xlabel('Step')\n",
    "ax.set_ylabel('Number of Citizens')\n",
    "_ = ax.legend(bbox_to_anchor=(1.35, 1.025))\n",
    "\n",
    "x = model_3_output[['Active','Employed','Quiescent','Corrupted']]\n",
    "print(x[x.Active == x.Active.max()])"
   ]
  }
 ],
 "metadata": {
  "kernelspec": {
   "display_name": "Python 3",
   "language": "python",
   "name": "python3"
  },
  "language_info": {
   "codemirror_mode": {
    "name": "ipython",
    "version": 3
   },
   "file_extension": ".py",
   "mimetype": "text/x-python",
   "name": "python",
   "nbconvert_exporter": "python",
   "pygments_lexer": "ipython3",
   "version": "3.8.3"
  }
 },
 "nbformat": 4,
 "nbformat_minor": 1
}
